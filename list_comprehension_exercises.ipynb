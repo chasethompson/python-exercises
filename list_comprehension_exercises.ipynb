{
 "cells": [
  {
   "cell_type": "code",
   "execution_count": 137,
   "metadata": {},
   "outputs": [],
   "source": [
    "# 17 list comprehension problems in python\n",
    "\n",
    "fruits = ['mango', 'kiwi', 'strawberry', 'guava', 'pineapple', 'mandarin orange']\n",
    "\n",
    "numbers = [2, 3, 4, 5, 6, 7, 8, 9, 10, 11, 13, 17, 19, 23, 256, -8, -4, -2, 5, -9]\n",
    "\n",
    "# Example for loop solution to add 1 to each number in the list\n",
    "numbers_plus_one = []\n",
    "for number in numbers:\n",
    "    numbers_plus_one.append(number + 1)\n",
    "\n",
    "# Example of using a list comprehension to create a list of the numbers plus one.\n",
    "numbers_plus_one = [number + 1 for number in numbers]\n",
    "\n",
    "# Example code that creates a list of all of the list of strings in fruits and uppercases every string\n",
    "output = []\n",
    "for fruit in fruits:\n",
    "    output.append(fruit.upper())\n"
   ]
  },
  {
   "cell_type": "markdown",
   "metadata": {},
   "source": [
    "### Exercise 1 - rewrite the above example code using list comprehension syntax. Make a variable named uppercased_fruits to hold the output of the list comprehension. Output should be ['MANGO', 'KIWI', etc...]\n",
    "\n"
   ]
  },
  {
   "cell_type": "code",
   "execution_count": 138,
   "metadata": {},
   "outputs": [
    {
     "name": "stdout",
     "output_type": "stream",
     "text": [
      "['MANGO', 'KIWI', 'STRAWBERRY', 'GUAVA', 'PINEAPPLE', 'MANDARIN ORANGE']\n"
     ]
    }
   ],
   "source": [
    "uppercase_fruits = [fruit.upper() for fruit in fruits]\n",
    "print(uppercase_fruits)"
   ]
  },
  {
   "cell_type": "markdown",
   "metadata": {},
   "source": [
    "### Exercise 2 - create a variable named capitalized_fruits and use list comprehension syntax to produce output like ['Mango', 'Kiwi', 'Strawberry', etc...]\n"
   ]
  },
  {
   "cell_type": "code",
   "execution_count": 139,
   "metadata": {},
   "outputs": [
    {
     "name": "stdout",
     "output_type": "stream",
     "text": [
      "['Mango', 'Kiwi', 'Strawberry', 'Guava', 'Pineapple', 'Mandarin orange']\n"
     ]
    }
   ],
   "source": [
    "#capitalize_fruits = [fruit.capitalize() for fruit in fruits]\n",
    "capitalize_fruits = [fruit[:1].upper() + fruit[1:] for fruit in fruits]\n",
    "print(capitalize_fruits)"
   ]
  },
  {
   "cell_type": "markdown",
   "metadata": {},
   "source": [
    "### Exercise 3 - Use a list comprehension to make a variable named fruits_with_more_than_two_vowels. Hint: You'll need a way to check if something is a vowel.\n"
   ]
  },
  {
   "cell_type": "code",
   "execution_count": 140,
   "metadata": {},
   "outputs": [
    {
     "name": "stdout",
     "output_type": "stream",
     "text": [
      "['guava', 'pineapple', 'mandarin orange']\n"
     ]
    }
   ],
   "source": [
    "vowels = ['a', 'A', 'e', 'E', 'i', 'I', 'o', 'O', 'u', 'U']\n",
    "\n",
    "def check_for_vowels(word):\n",
    "    count = 0\n",
    "    for let in word:\n",
    "        if let in vowels:\n",
    "            count += 1\n",
    "    return count\n",
    "\n",
    "fruits_with_more_than_two_vowels = [fruit for fruit in fruits if check_for_vowels(fruit) > 2]\n",
    "\n",
    "print(fruits_with_more_than_two_vowels)\n",
    "\n",
    "\n",
    "#words_starting_with_vowel = [word for word in words if word[0] in 'aeiou']"
   ]
  },
  {
   "cell_type": "markdown",
   "metadata": {},
   "source": [
    "### Exercise 4 - make a variable named fruits_with_only_two_vowels. The result should be ['mango', 'kiwi', 'strawberry']\n"
   ]
  },
  {
   "cell_type": "code",
   "execution_count": 141,
   "metadata": {},
   "outputs": [
    {
     "name": "stdout",
     "output_type": "stream",
     "text": [
      "['mango', 'kiwi', 'strawberry']\n"
     ]
    }
   ],
   "source": [
    "fruits_with_only_two_vowels = [fruit for fruit in fruits if check_for_vowels(fruit) == 2]\n",
    "print(fruits_with_only_two_vowels)"
   ]
  },
  {
   "cell_type": "markdown",
   "metadata": {},
   "source": [
    "###  Exercise 5 - make a list that contains each fruit with more than 5 characters"
   ]
  },
  {
   "cell_type": "code",
   "execution_count": 142,
   "metadata": {},
   "outputs": [
    {
     "name": "stdout",
     "output_type": "stream",
     "text": [
      "['strawberry', 'pineapple', 'mandarin orange']\n"
     ]
    }
   ],
   "source": [
    "fruits_with_more_than_five_characters = [fruit for fruit in fruits if len(fruit) > 5]\n",
    "print(fruits_with_more_than_five_characters)"
   ]
  },
  {
   "cell_type": "markdown",
   "metadata": {},
   "source": [
    "### Exercise 6 - make a list that contains each fruit with exactly 5 characters"
   ]
  },
  {
   "cell_type": "code",
   "execution_count": 143,
   "metadata": {},
   "outputs": [
    {
     "name": "stdout",
     "output_type": "stream",
     "text": [
      "['mango', 'guava']\n"
     ]
    }
   ],
   "source": [
    "fruits_with_five_characters = [fruit for fruit in fruits if len(fruit) == 5]\n",
    "print(fruits_with_five_characters)"
   ]
  },
  {
   "cell_type": "markdown",
   "metadata": {},
   "source": [
    "### Exercise 7 - Make a list that contains fruits that have less than 5 characters"
   ]
  },
  {
   "cell_type": "code",
   "execution_count": 144,
   "metadata": {},
   "outputs": [
    {
     "name": "stdout",
     "output_type": "stream",
     "text": [
      "['kiwi']\n"
     ]
    }
   ],
   "source": [
    "fruits_with_less_than_five_characters = [fruit for fruit in fruits if len(fruit) < 5]\n",
    "print(fruits_with_less_than_five_characters)"
   ]
  },
  {
   "cell_type": "markdown",
   "metadata": {},
   "source": [
    "### Exercise 8 - Make a list containing the number of characters in each fruit. Output would be [5, 4, 10, etc... ]"
   ]
  },
  {
   "cell_type": "code",
   "execution_count": 145,
   "metadata": {},
   "outputs": [
    {
     "name": "stdout",
     "output_type": "stream",
     "text": [
      "[5, 4, 10, 5, 9, 15]\n"
     ]
    }
   ],
   "source": [
    "fruit_character_count = [len(fruit) for fruit in fruits]\n",
    "print(fruit_character_count)"
   ]
  },
  {
   "cell_type": "markdown",
   "metadata": {},
   "source": [
    "### Exercise 9 - Make a variable named fruits_with_letter_a that contains a list of only the fruits that contain the letter \"a\"\n"
   ]
  },
  {
   "cell_type": "code",
   "execution_count": 146,
   "metadata": {},
   "outputs": [
    {
     "name": "stdout",
     "output_type": "stream",
     "text": [
      "['mango', 'strawberry', 'guava', 'pineapple', 'mandarin orange']\n"
     ]
    }
   ],
   "source": [
    "fruits_with_letter_a = [fruit for fruit in fruits if 'a' in fruit]\n",
    "print(fruits_with_letter_a)"
   ]
  },
  {
   "cell_type": "markdown",
   "metadata": {},
   "source": [
    "### Exercise 10 - Make a variable named even_numbers that holds only the even numbers "
   ]
  },
  {
   "cell_type": "code",
   "execution_count": 147,
   "metadata": {},
   "outputs": [
    {
     "name": "stdout",
     "output_type": "stream",
     "text": [
      "[2, 4, 6, 8, 10, 256, -8, -4, -2]\n"
     ]
    }
   ],
   "source": [
    "even_numbers = [n for n in numbers if n % 2 == 0]\n",
    "print(even_numbers)"
   ]
  },
  {
   "cell_type": "markdown",
   "metadata": {},
   "source": [
    "### Exercise 11 - Make a variable named odd_numbers that holds only the odd numbers"
   ]
  },
  {
   "cell_type": "code",
   "execution_count": 148,
   "metadata": {},
   "outputs": [
    {
     "name": "stdout",
     "output_type": "stream",
     "text": [
      "[3, 5, 7, 9, 11, 13, 17, 19, 23, 5, -9]\n"
     ]
    }
   ],
   "source": [
    "odd_numbers = [n for n in numbers if n % 2 != 0]\n",
    "print(odd_numbers)"
   ]
  },
  {
   "cell_type": "markdown",
   "metadata": {},
   "source": [
    "### Exercise 12 - Make a variable named positive_numbers that holds only the positive numbers"
   ]
  },
  {
   "cell_type": "code",
   "execution_count": 149,
   "metadata": {},
   "outputs": [
    {
     "name": "stdout",
     "output_type": "stream",
     "text": [
      "[2, 3, 4, 5, 6, 7, 8, 9, 10, 11, 13, 17, 19, 23, 256, 5]\n"
     ]
    }
   ],
   "source": [
    "positive_numbers = [n for n in numbers if n > 0]\n",
    "print(positive_numbers)"
   ]
  },
  {
   "cell_type": "markdown",
   "metadata": {},
   "source": [
    "### Exercise 13 - Make a variable named negative_numbers that holds only the negative numbers"
   ]
  },
  {
   "cell_type": "code",
   "execution_count": 150,
   "metadata": {},
   "outputs": [
    {
     "name": "stdout",
     "output_type": "stream",
     "text": [
      "[-8, -4, -2, -9]\n"
     ]
    }
   ],
   "source": [
    "negative_numbers = [n for n in numbers if n < 0]\n",
    "print(negative_numbers)"
   ]
  },
  {
   "cell_type": "markdown",
   "metadata": {},
   "source": [
    "### Exercise 14 - use a list comprehension w/ a conditional in order to produce a list of numbers with 2 or more numerals"
   ]
  },
  {
   "cell_type": "code",
   "execution_count": 156,
   "metadata": {},
   "outputs": [
    {
     "name": "stdout",
     "output_type": "stream",
     "text": [
      "[10, 11, 13, 17, 19, 23, 256]\n"
     ]
    }
   ],
   "source": [
    "two_or_more_numerals = [n for n in numbers if len(str(abs(n))) >= 2]\n",
    "print(two_or_more_numerals)"
   ]
  },
  {
   "cell_type": "markdown",
   "metadata": {},
   "source": [
    "### # Exercise 15 - Make a variable named numbers_squared that contains the numbers list with each element squared. Output is [4, 9, 16, etc...]\n"
   ]
  },
  {
   "cell_type": "code",
   "execution_count": 152,
   "metadata": {},
   "outputs": [
    {
     "name": "stdout",
     "output_type": "stream",
     "text": [
      "[4, 9, 16, 25, 36, 49, 64, 81, 100, 121, 169, 289, 361, 529, 65536, 64, 16, 4, 25, 81]\n"
     ]
    }
   ],
   "source": [
    "numbers_squared = [n * n for n in numbers]\n",
    "print(numbers_squared)"
   ]
  },
  {
   "cell_type": "markdown",
   "metadata": {},
   "source": [
    "### # Exercise 16 - Make a variable named odd_negative_numbers that contains only the numbers that are both odd and negative."
   ]
  },
  {
   "cell_type": "code",
   "execution_count": 153,
   "metadata": {},
   "outputs": [
    {
     "name": "stdout",
     "output_type": "stream",
     "text": [
      "[-9]\n"
     ]
    }
   ],
   "source": [
    "odd_negative_numbers = [n for n in numbers if n < 0 and n % 2 !=0]\n",
    "print(odd_negative_numbers)"
   ]
  },
  {
   "cell_type": "markdown",
   "metadata": {},
   "source": [
    "### Exercise 17 - Make a variable named numbers_plus_5. In it, return a list containing each number plus five. "
   ]
  },
  {
   "cell_type": "code",
   "execution_count": 154,
   "metadata": {},
   "outputs": [
    {
     "name": "stdout",
     "output_type": "stream",
     "text": [
      "[7, 8, 9, 10, 11, 12, 13, 14, 15, 16, 18, 22, 24, 28, 261, -3, 1, 3, 10, -4]\n"
     ]
    }
   ],
   "source": [
    "numbers_plus_5 = [n + 5 for n in numbers]\n",
    "print(numbers_plus_5)"
   ]
  },
  {
   "cell_type": "markdown",
   "metadata": {},
   "source": [
    "### # BONUS Make a variable named \"primes\" that is a list containing the prime numbers in the numbers list. *Hint* you may want to make or find a helper function that determines if a given number is prime or not."
   ]
  },
  {
   "cell_type": "code",
   "execution_count": 155,
   "metadata": {},
   "outputs": [
    {
     "name": "stdout",
     "output_type": "stream",
     "text": [
      "[2, 3, 5, 7, 11, 13, 17, 19, 23, 5]\n"
     ]
    }
   ],
   "source": [
    "\n",
    "def prime_number(num):\n",
    "    if num > 1:\n",
    "        for n in range(2, num):\n",
    "            if (num % n) == 0:\n",
    "                return False\n",
    "        return True\n",
    "\n",
    "prime = [n for n in numbers if prime_number(n) == True]\n",
    "print(prime)"
   ]
  }
 ],
 "metadata": {
  "kernelspec": {
   "display_name": "Python 3",
   "language": "python",
   "name": "python3"
  },
  "language_info": {
   "codemirror_mode": {
    "name": "ipython",
    "version": 3
   },
   "file_extension": ".py",
   "mimetype": "text/x-python",
   "name": "python",
   "nbconvert_exporter": "python",
   "pygments_lexer": "ipython3",
   "version": "3.7.4"
  }
 },
 "nbformat": 4,
 "nbformat_minor": 2
}
