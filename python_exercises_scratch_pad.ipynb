{
 "cells": [
  {
   "cell_type": "code",
   "execution_count": null,
   "metadata": {},
   "outputs": [],
   "source": [
    "import json\n",
    "\n",
    "json.load(open(\"profiles.json\"))"
   ]
  },
  {
   "cell_type": "code",
   "execution_count": null,
   "metadata": {},
   "outputs": [],
   "source": [
    "profile = json.load(open(\"profiles.json\"))\n",
    "users = len(profile)"
   ]
  },
  {
   "cell_type": "code",
   "execution_count": null,
   "metadata": {},
   "outputs": [],
   "source": [
    "active_user = [user for user in profile if user['isActive'] == True]"
   ]
  },
  {
   "cell_type": "code",
   "execution_count": null,
   "metadata": {},
   "outputs": [],
   "source": [
    "inactive_user = [user['name'] for user in profile if user['isActive'] != True]\n",
    "inactive_user"
   ]
  },
  {
   "cell_type": "code",
   "execution_count": null,
   "metadata": {},
   "outputs": [],
   "source": [
    "total_balance = sum([float(profile[\"balance\"].strip(\"$\").replace(\",\", \"\")) for profile in profile])\n",
    "total_balance"
   ]
  },
  {
   "cell_type": "code",
   "execution_count": null,
   "metadata": {},
   "outputs": [],
   "source": [
    "lowest_bal = [profile[\"name\"] for profile in profile if profile[\"balance\"] == min([float(profile[\"balance\"].strip(\"$\").replace(\",\", \"\"))])]\n",
    "lowest_bal"
   ]
  },
  {
   "cell_type": "code",
   "execution_count": null,
   "metadata": {},
   "outputs": [],
   "source": [
    "lowest_bal = min([float(profile[\"balance\"].strip(\"$\").replace(\",\", \"\")) for profile in profile])\n",
    "lowest_bal"
   ]
  },
  {
   "cell_type": "code",
   "execution_count": null,
   "metadata": {},
   "outputs": [],
   "source": [
    "user_with_low_bal = [user['name'] for user in profile if user['balance'] == lowest_bal]\n",
    "user_with_low_bal"
   ]
  },
  {
   "cell_type": "code",
   "execution_count": null,
   "metadata": {},
   "outputs": [],
   "source": [
    "lowest_bal = min([profile['balance'] for profile in profile])\n",
    "lowest_bal\n",
    "user_with_low_bal = [profile['name'] for profile in profile if profile['balance'] == lowest_bal]\n",
    "user_with_low_bal"
   ]
  },
  {
   "cell_type": "code",
   "execution_count": null,
   "metadata": {},
   "outputs": [],
   "source": [
    "highest_bal = max([profile['balance'] for profile in profile])\n",
    "highest_bal\n",
    "user_with_high_bal = [profile['name'] for profile in profile if profile['balance'] == highest_bal]\n",
    "user_with_high_bal"
   ]
  },
  {
   "cell_type": "code",
   "execution_count": null,
   "metadata": {},
   "outputs": [],
   "source": [
    "max_favorite_fruits = max([profile['favoriteFruit'] for profile in profile])\n",
    "max_favorite_fruits"
   ]
  },
  {
   "cell_type": "code",
   "execution_count": null,
   "metadata": {},
   "outputs": [],
   "source": [
    "favorite_fruits = [profile['favoriteFruit'] for profile in profile]\n",
    "favorite_fruits"
   ]
  },
  {
   "cell_type": "code",
   "execution_count": null,
   "metadata": {},
   "outputs": [],
   "source": [
    "min_favorite_fruits = min([profile['favoriteFruit'] for profile in profile])\n",
    "min_favorite_fruits"
   ]
  },
  {
   "cell_type": "code",
   "execution_count": null,
   "metadata": {},
   "outputs": [],
   "source": [
    "from collections import Counter\n",
    "\n",
    "data = [{'a':1, 'b':1}, {'a':1, 'c':1}, {'b':1, 'c':1}, {'a':1, 'c':1}, {'a':1, 'd':1}]\n",
    "counter = Counter(profile['favoriteFruit'])\n",
    "for fruit in profile:\n",
    "    counter += Counter(fruit)"
   ]
  },
  {
   "cell_type": "code",
   "execution_count": null,
   "metadata": {},
   "outputs": [],
   "source": [
    "user_greeting = [profile['greeting'] for profile in profile]\n",
    "user_greeting\n",
    "user_unread_message = list(map(lambda sub:int(''.join([ele for ele in sub if ele.isnumeric()])), user_greeting))\n",
    "total_unread = sum(user_unread_message)\n",
    "total_unread"
   ]
  },
  {
   "cell_type": "code",
   "execution_count": null,
   "metadata": {},
   "outputs": [],
   "source": [
    "from collections import Counter\n",
    "\n",
    "fruits = Counter([profile['favoriteFruit'] for profile in profile])\n",
    "most_common_fav = fruits.most_common(1)[0][0]\n",
    "most_common_fav"
   ]
  },
  {
   "cell_type": "code",
   "execution_count": null,
   "metadata": {},
   "outputs": [],
   "source": [
    "least_common_fav = fruits.most_common()[-1][0]\n",
    "least_common_fav"
   ]
  },
  {
   "cell_type": "code",
   "execution_count": null,
   "metadata": {},
   "outputs": [],
   "source": [
    "import re\n",
    "profile_greeting = [re.sub('[^0-9]+', '', profile[\"greeting\"]) for profile in profile]\n",
    "profile_greeting\n",
    "def total_unread(l):\n",
    "    return sum([int(i) for i in l if type(i) == int or i.isdigit()])\n",
    "total_unread(profile_greeting)"
   ]
  },
  {
   "cell_type": "code",
   "execution_count": null,
   "metadata": {},
   "outputs": [],
   "source": []
  }
 ],
 "metadata": {
  "kernelspec": {
   "display_name": "Python 3",
   "language": "python",
   "name": "python3"
  },
  "language_info": {
   "codemirror_mode": {
    "name": "ipython",
    "version": 3
   },
   "file_extension": ".py",
   "mimetype": "text/x-python",
   "name": "python",
   "nbconvert_exporter": "python",
   "pygments_lexer": "ipython3",
   "version": "3.7.4"
  }
 },
 "nbformat": 4,
 "nbformat_minor": 2
}
